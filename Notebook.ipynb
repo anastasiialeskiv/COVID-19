{
 "cells": [
  {
   "cell_type": "markdown",
   "id": "cfdeade0",
   "metadata": {},
   "source": [
    "Anastasiia Leskiv"
   ]
  },
  {
   "cell_type": "markdown",
   "id": "6b181907",
   "metadata": {},
   "source": [
    "# Business Understanding"
   ]
  },
  {
   "cell_type": "markdown",
   "id": "17af5f7c",
   "metadata": {},
   "source": [
    "COVID-19 also known as SARS-CoV-2, caused by a newly identified coronavirus, typically results in mild to moderate respiratory illness for most infected individuals, often resolving without specific medical intervention. However, older individuals and those with pre-existing health issues such as cardiovascular disease, diabetes, chronic respiratory conditions, or cancer, are at a higher risk of developing severe illness.\n",
    "\n",
    "Throughout the pandemic, healthcare providers have grappled with a critical challenge: a scarcity of medical resources and an effective distribution strategy. Anticipating the specific medical needs of individuals upon testing positive or even beforehand is paramount. This predictive ability could significantly assist authorities in proactively sourcing and organizing the requisite resources, potentially saving lives in critical situations during these challenging times.\n",
    "\n",
    "The goal of this project is to build a machine learning model that, shows patient's current symptom, status, and medical history, predict patients who are at high risk of death from covid."
   ]
  },
  {
   "cell_type": "markdown",
   "id": "071876d6",
   "metadata": {},
   "source": [
    "# Data Understanding"
   ]
  },
  {
   "cell_type": "markdown",
   "id": "d6750cec",
   "metadata": {},
   "source": [
    "This data set contains 21 unique features and 1,048,576 unique patients\n",
    "sex: 1 for female and 2 for male.In the Boolean features, 1 means \"yes\" and 2 means \"no\". values as 97 and 99 are missing data.\n",
    "\n",
    "sex: 1 for female and 2 for male.\n",
    "\n",
    "age: of the patient.\n",
    "\n",
    "classification: covid test findings. Values 1-3 mean that the patient was diagnosed with covid in different\n",
    "degrees. 4 or higher means that the patient is not a carrier of covid or that the test is inconclusive.\n",
    "\n",
    "patient type: type of care the patient received in the unit. 1 for returned home and 2 for hospitalization.\n",
    "\n",
    "pneumonia: whether the patient already have air sacs inflammation or not.\n",
    "pregnancy: whether the patient is pregnant or not.\n",
    "\n",
    "diabetes: whether the patient has diabetes or not.\n",
    "\n",
    "copd: Indicates whether the patient has Chronic obstructive pulmonary disease or not.\n",
    "\n",
    "asthma: whether the patient has asthma or not.\n",
    "\n",
    "inmsupr: whether the patient is immunosuppressed or not.\n",
    "\n",
    "hypertension: whether the patient has hypertension or not.\n",
    "\n",
    "cardiovascular: whether the patient has heart or blood vessels related disease.\n",
    "\n",
    "renal chronic: whether the patient has chronic renal disease or not.\n",
    "\n",
    "other disease: whether the patient has other disease or not.\n",
    "\n",
    "obesity: whether the patient is obese or not.\n",
    "\n",
    "tobacco: whether the patient is a tobacco user.\n",
    "\n",
    "usmr: Indicates whether the patient treated medical units of the first, second or third level.\n",
    "\n",
    "medical unit: type of institution of the National Health System that provided the care.\n",
    "\n",
    "intubed: whether the patient was connected to the ventilator.\n",
    "\n",
    "icu: Indicates whether the patient had been admitted to an Intensive Care Unit.\n",
    "\n",
    "date died: If the patient died indicate the date of death, and 9999-99-99 otherwise."
   ]
  },
  {
   "cell_type": "markdown",
   "id": "26983617",
   "metadata": {},
   "source": [
    "#  Data Preparation\n"
   ]
  },
  {
   "cell_type": "code",
   "execution_count": 1,
   "id": "3590c763",
   "metadata": {},
   "outputs": [],
   "source": [
    "# import all necessary libraries\n",
    "import numpy as np # for data matipulation\n",
    "import pandas as pd # for data matipulation\n",
    "import matplotlib.pyplot as plt #for plotting\n",
    "%matplotlib inline \n",
    "import numpy as np #for data matipulation\n",
    "import matplotlib.pyplot as plt#for plotting\n",
    "import seaborn as sns #for plotting\n",
    "%matplotlib inline\n",
    "from sklearn.model_selection import train_test_split # for modeling \n",
    "from sklearn.linear_model import LogisticRegression# for modeling \n",
    "from sklearn.metrics import confusion_matrix# for modeling \n",
    "from sklearn.metrics import classification_report# for modeling \n",
    "import warnings\n",
    "warnings.filterwarnings('ignore') # for warning ignoring\n",
    "import sklearn.metrics as metrics# for modeling \n",
    "from sklearn.metrics import accuracy_score# for modeling \n",
    "from six import StringIO #used as input or output to the most function that would expect a standard file object\n",
    "from IPython.display import Image \n",
    "from sklearn.tree import export_graphviz# for modeling \n",
    "from sklearn.model_selection import cross_val_score# for modeling \n",
    "import seaborn as sns #for plotting\n",
    "from sklearn.tree import DecisionTreeClassifier# for modeling  \n",
    "from tqdm import tqdm\n",
    "from sklearn.ensemble import RandomForestClassifier# for modeling \n"
   ]
  },
  {
   "cell_type": "code",
   "execution_count": null,
   "id": "19abf504",
   "metadata": {},
   "outputs": [],
   "source": [
    "! pip install kaggle "
   ]
  },
  {
   "cell_type": "code",
   "execution_count": null,
   "id": "c2d2a828",
   "metadata": {},
   "outputs": [],
   "source": [
    "import json \n",
    "import os\n",
    "from pathlib import Path\n",
    "\n",
    "# user name and API key\n",
    "username = ''\n",
    "key = ''\n",
    "user_folder = ''\n",
    "# your api key\n",
    "api_key = {\n",
    "'username':username ,\n",
    "'key':key}\n",
    "\n",
    "# uses pathlib Path\n",
    "kaggle_path = Path(f'/Users/{user_folder}/.kaggle')\n",
    "os.makedirs(kaggle_path, exist_ok=True)\n",
    "\n",
    "# opens file and dumps python dict to json object \n",
    "with open (kaggle_path/'kaggle.json', 'w') as handl:\n",
    "    json.dump(api_key,handl)\n",
    "\n",
    "os.chmod(kaggle_path/'kaggle.json', 777) "
   ]
  },
  {
   "cell_type": "code",
   "execution_count": null,
   "id": "42f3de2d",
   "metadata": {},
   "outputs": [],
   "source": [
    "import kaggle"
   ]
  },
  {
   "cell_type": "code",
   "execution_count": null,
   "id": "14d6235f",
   "metadata": {},
   "outputs": [],
   "source": [
    "!kaggle datasets download -d meirnizri/covid19-dataset"
   ]
  },
  {
   "cell_type": "code",
   "execution_count": null,
   "id": "5502ff1f",
   "metadata": {},
   "outputs": [],
   "source": [
    "! unzip covid19-dataset.zip"
   ]
  },
  {
   "cell_type": "code",
   "execution_count": null,
   "id": "c6347861",
   "metadata": {},
   "outputs": [],
   "source": [
    "# read CSV file and print 5 raws\n",
    "df = pd.read_csv('Covid Data.csv')\n",
    "df.head()"
   ]
  },
  {
   "cell_type": "code",
   "execution_count": null,
   "id": "3338f664",
   "metadata": {},
   "outputs": [],
   "source": [
    "df.shape"
   ]
  },
  {
   "cell_type": "code",
   "execution_count": null,
   "id": "3546a72f",
   "metadata": {},
   "outputs": [],
   "source": [
    "#print information about the DataFrame\n",
    "df.info()"
   ]
  },
  {
   "cell_type": "code",
   "execution_count": null,
   "id": "28730544",
   "metadata": {},
   "outputs": [],
   "source": [
    "#Checking null values\n",
    "df.isnull().sum()"
   ]
  },
  {
   "cell_type": "markdown",
   "id": "00a03cf4",
   "metadata": {},
   "source": [
    "A good day is when there is no \"NaN\"in the data :D Let's look at our data to understand something about it."
   ]
  },
  {
   "cell_type": "code",
   "execution_count": null,
   "id": "5d5f5e66",
   "metadata": {},
   "outputs": [],
   "source": [
    "df.describe()"
   ]
  },
  {
   "cell_type": "code",
   "execution_count": null,
   "id": "e6a8e814",
   "metadata": {},
   "outputs": [],
   "source": [
    "#checkind Unique Values\n",
    "for col in df.columns : \n",
    "    print('{:<20} => {:>10}'.format(col, len(df[col].unique())))"
   ]
  },
  {
   "cell_type": "markdown",
   "id": "27873391",
   "metadata": {},
   "source": [
    "I can see that some of the columns have more then 2 unique values. I will take third out and leave just 2 just like I was expecting it to be.values as 97 and 99 are missing data.\n",
    "\n",
    " "
   ]
  },
  {
   "cell_type": "code",
   "execution_count": null,
   "id": "bb60172a",
   "metadata": {},
   "outputs": [],
   "source": [
    "df = df[(df.PNEUMONIA == 1) | (df.PNEUMONIA == 2)]\n",
    "df = df[(df.DIABETES == 1) | (df.DIABETES == 2)]\n",
    "df = df[(df.COPD == 1) | (df.COPD == 2)]\n",
    "df = df[(df.ASTHMA == 1) | (df.ASTHMA == 2)]\n",
    "df = df[(df.INMSUPR == 1) | (df.INMSUPR == 2)]\n",
    "df = df[(df.HIPERTENSION == 1) | (df.HIPERTENSION == 2)]\n",
    "df = df[(df.OTHER_DISEASE == 1) | (df.OTHER_DISEASE == 2)]\n",
    "df = df[(df.CARDIOVASCULAR == 1) | (df.CARDIOVASCULAR == 2)]\n",
    "df = df[(df.OBESITY == 1) | (df.OBESITY == 2)]\n",
    "df = df[(df.RENAL_CHRONIC == 1) | (df.RENAL_CHRONIC == 2)]\n",
    "df = df[(df.TOBACCO == 1) | (df.TOBACCO == 2)]"
   ]
  },
  {
   "cell_type": "code",
   "execution_count": null,
   "id": "39f3145a",
   "metadata": {},
   "outputs": [],
   "source": [
    "# Ploting countplot to compare whether gender affects the number \n",
    "import  matplotlib.pyplot as plt\n",
    "import seaborn as sns\n",
    "sns.countplot(x=\"SEX\", data=df, palette=\"pastel\")\n",
    "plt.show()"
   ]
  },
  {
   "cell_type": "code",
   "execution_count": null,
   "id": "59f9f30b",
   "metadata": {},
   "outputs": [],
   "source": [
    "df['SEX'].value_counts()"
   ]
  },
  {
   "cell_type": "markdown",
   "id": "5dd4f9b3",
   "metadata": {},
   "source": [
    "Okay, so gender does not affect the number "
   ]
  },
  {
   "cell_type": "code",
   "execution_count": null,
   "id": "d92cdf3d",
   "metadata": {},
   "outputs": [],
   "source": [
    "# Ploting countplot to compare people who have pneumonia or not\n",
    "import  matplotlib.pyplot as plt\n",
    "import seaborn as sns\n",
    "sns.countplot(x=\"PNEUMONIA\", data=df, palette=\"pastel\")\n",
    "plt.show()"
   ]
  },
  {
   "cell_type": "code",
   "execution_count": null,
   "id": "5cd172ab",
   "metadata": {},
   "outputs": [],
   "source": [
    "df['PNEUMONIA'].value_counts()"
   ]
  },
  {
   "cell_type": "markdown",
   "id": "eefbea56",
   "metadata": {},
   "source": [
    "1 means \"yes\" and 2 means \"no\".This plot shows us that a lot less patients in our data set have pneumonia"
   ]
  },
  {
   "cell_type": "code",
   "execution_count": null,
   "id": "dc100166",
   "metadata": {},
   "outputs": [],
   "source": [
    "# Ploting countplot to compare people who have diabetes or not\n",
    "import  matplotlib.pyplot as plt\n",
    "import seaborn as sns\n",
    "sns.countplot(x=\"DIABETES\", data=df, palette=\"pastel\")\n",
    "plt.show()"
   ]
  },
  {
   "cell_type": "code",
   "execution_count": null,
   "id": "cac0a618",
   "metadata": {},
   "outputs": [],
   "source": [
    "df['DIABETES'].value_counts()"
   ]
  },
  {
   "cell_type": "markdown",
   "id": "554fd8d2",
   "metadata": {},
   "source": [
    "This plot shows us that a less more patients in our data set have"
   ]
  },
  {
   "cell_type": "code",
   "execution_count": null,
   "id": "3a2b0c08",
   "metadata": {},
   "outputs": [],
   "source": [
    "# Ploting countplot to see whether the patient has Chronic obstructive pulmonary disease or not\n",
    "import  matplotlib.pyplot as plt\n",
    "import seaborn as sns\n",
    "sns.countplot(x=\"COPD\", data=df, palette=\"pastel\")\n",
    "plt.show()"
   ]
  },
  {
   "cell_type": "code",
   "execution_count": null,
   "id": "217a627f",
   "metadata": {},
   "outputs": [],
   "source": [
    "df['COPD'].value_counts()"
   ]
  },
  {
   "cell_type": "markdown",
   "id": "9804faaf",
   "metadata": {},
   "source": [
    "This plot shows us that a lot less patients in our data set have Chronic obstructive pulmonary disease"
   ]
  },
  {
   "cell_type": "code",
   "execution_count": null,
   "id": "e0654052",
   "metadata": {},
   "outputs": [],
   "source": [
    "# Ploting countplot to see whether the patient has Asthma\n",
    "import  matplotlib.pyplot as plt\n",
    "import seaborn as sns\n",
    "sns.countplot(x=\"ASTHMA\", data=df, palette=\"pastel\")\n",
    "plt.show()"
   ]
  },
  {
   "cell_type": "code",
   "execution_count": null,
   "id": "71382dd1",
   "metadata": {},
   "outputs": [],
   "source": [
    "df['ASTHMA'].value_counts()"
   ]
  },
  {
   "cell_type": "markdown",
   "id": "c0466992",
   "metadata": {},
   "source": [
    "This plot shows us that a lot less patients in our data set have Asthma"
   ]
  },
  {
   "cell_type": "code",
   "execution_count": null,
   "id": "8f435f4d",
   "metadata": {},
   "outputs": [],
   "source": [
    "# Ploting countplot to see whether the patient is immunosuppressed or not\n",
    "import  matplotlib.pyplot as plt\n",
    "import seaborn as sns\n",
    "sns.countplot(x=\"INMSUPR\", data=df, palette=\"pastel\")\n",
    "plt.show()"
   ]
  },
  {
   "cell_type": "code",
   "execution_count": null,
   "id": "91cd2706",
   "metadata": {},
   "outputs": [],
   "source": [
    "df['INMSUPR'].value_counts()"
   ]
  },
  {
   "cell_type": "markdown",
   "id": "c406b54b",
   "metadata": {},
   "source": [
    "This plot shows us that a lotless patients in our data set is immunosuppressed"
   ]
  },
  {
   "cell_type": "code",
   "execution_count": null,
   "id": "9f3f2b5b",
   "metadata": {},
   "outputs": [],
   "source": [
    "# Ploting countplot to see whether the patient has hypertension or not\n",
    "import  matplotlib.pyplot as plt\n",
    "import seaborn as sns\n",
    "sns.countplot(x=\"HIPERTENSION\", data=df, palette=\"pastel\")\n",
    "plt.show()"
   ]
  },
  {
   "cell_type": "code",
   "execution_count": null,
   "id": "af3b3d38",
   "metadata": {},
   "outputs": [],
   "source": [
    "df['HIPERTENSION'].value_counts()"
   ]
  },
  {
   "cell_type": "markdown",
   "id": "6a10ba0f",
   "metadata": {},
   "source": [
    "This plot shows us that a lot less patients in our data set have hypertension"
   ]
  },
  {
   "cell_type": "code",
   "execution_count": null,
   "id": "bb4aca06",
   "metadata": {},
   "outputs": [],
   "source": [
    "# Ploting countplot to see whether the patient has any other DISEASE\n",
    "import  matplotlib.pyplot as plt\n",
    "import seaborn as sns\n",
    "sns.countplot(x=\"OTHER_DISEASE\", data=df, palette=\"pastel\")\n",
    "plt.show()"
   ]
  },
  {
   "cell_type": "code",
   "execution_count": null,
   "id": "f0d13c2b",
   "metadata": {},
   "outputs": [],
   "source": [
    "df['OTHER_DISEASE'].value_counts()"
   ]
  },
  {
   "cell_type": "markdown",
   "id": "43cc4861",
   "metadata": {},
   "source": [
    "This plot shows us that a lot less patients in our data set also have some other diseases"
   ]
  },
  {
   "cell_type": "code",
   "execution_count": null,
   "id": "37e7e1b4",
   "metadata": {},
   "outputs": [],
   "source": [
    "# Ploting countplot to see whether the patient has CARDIOVASCULAR disease\n",
    "import  matplotlib.pyplot as plt\n",
    "import seaborn as sns\n",
    "sns.countplot(x=\"CARDIOVASCULAR\", data=df, palette=\"pastel\")\n",
    "plt.show()"
   ]
  },
  {
   "cell_type": "code",
   "execution_count": null,
   "id": "a2d046fd",
   "metadata": {},
   "outputs": [],
   "source": [
    "df['CARDIOVASCULAR'].value_counts()"
   ]
  },
  {
   "cell_type": "markdown",
   "id": "14f28396",
   "metadata": {},
   "source": [
    "This plot shows us that a lot less patients in our data set also have CARDIOVASCULAR disease"
   ]
  },
  {
   "cell_type": "code",
   "execution_count": null,
   "id": "38c11bb2",
   "metadata": {},
   "outputs": [],
   "source": [
    "# Ploting countplot to see whether the patient has OBESITY\n",
    "import  matplotlib.pyplot as plt\n",
    "import seaborn as sns\n",
    "sns.countplot(x=\"OBESITY\", data=df, palette=\"pastel\")\n",
    "plt.show()"
   ]
  },
  {
   "cell_type": "code",
   "execution_count": null,
   "id": "53afccbc",
   "metadata": {},
   "outputs": [],
   "source": [
    "df['OBESITY'].value_counts()"
   ]
  },
  {
   "cell_type": "markdown",
   "id": "4bfe5f6c",
   "metadata": {},
   "source": [
    "This plot shows us that a lot less patients in our data set also have OBESITY"
   ]
  },
  {
   "cell_type": "code",
   "execution_count": null,
   "id": "aea39683",
   "metadata": {},
   "outputs": [],
   "source": [
    "# Ploting countplot to see whether the patient has chronic renal disease or not.\n",
    "import  matplotlib.pyplot as plt\n",
    "import seaborn as sns\n",
    "sns.countplot(x=\"RENAL_CHRONIC\", data=df, palette=\"pastel\")\n",
    "plt.show()"
   ]
  },
  {
   "cell_type": "code",
   "execution_count": null,
   "id": "39c994e7",
   "metadata": {},
   "outputs": [],
   "source": [
    "df['RENAL_CHRONIC'].value_counts()"
   ]
  },
  {
   "cell_type": "markdown",
   "id": "bd530af9",
   "metadata": {},
   "source": [
    "This plot shows us that a lot less patients in our data set also have chronic renal disease"
   ]
  },
  {
   "cell_type": "code",
   "execution_count": null,
   "id": "40740f5f",
   "metadata": {},
   "outputs": [],
   "source": [
    "# Ploting countplot to compare people who use tabacco or not \n",
    "import  matplotlib.pyplot as plt\n",
    "import seaborn as sns\n",
    "sns.countplot(x=\"TOBACCO\", data=df, palette=\"pastel\")\n",
    "plt.show()"
   ]
  },
  {
   "cell_type": "code",
   "execution_count": null,
   "id": "d0b8a517",
   "metadata": {},
   "outputs": [],
   "source": [
    "df['TOBACCO'].value_counts()"
   ]
  },
  {
   "cell_type": "markdown",
   "id": "3296a408",
   "metadata": {},
   "source": [
    "This plot shows us that a lot less patients in our data are smokers"
   ]
  },
  {
   "cell_type": "code",
   "execution_count": null,
   "id": "b78b68a3",
   "metadata": {},
   "outputs": [],
   "source": [
    "# Ploting countplot to see whether the patient had been admitted to an Intensive Care Unit\n",
    "import  matplotlib.pyplot as plt\n",
    "import seaborn as sns\n",
    "sns.countplot(x=\"ICU\", data=df, palette=\"pastel\")\n",
    "plt.show()"
   ]
  },
  {
   "cell_type": "code",
   "execution_count": null,
   "id": "d12fa95c",
   "metadata": {},
   "outputs": [],
   "source": [
    "df['CARDIOVASCULAR'].value_counts()"
   ]
  },
  {
   "cell_type": "markdown",
   "id": "5774160d",
   "metadata": {},
   "source": [
    "Okay, here we have a lot of missing value so I will drop thi scolumn"
   ]
  },
  {
   "cell_type": "code",
   "execution_count": null,
   "id": "919ccf9f",
   "metadata": {},
   "outputs": [],
   "source": [
    "df.drop(columns=[\"ICU\"], inplace=True)"
   ]
  },
  {
   "cell_type": "code",
   "execution_count": null,
   "id": "e798b6d3",
   "metadata": {},
   "outputs": [],
   "source": [
    "#covid test findings. Values 1-3 mean that the patient was diagnosed with covid \n",
    "#in different degrees. 4 or higher means that the patient is not a carrier of covid \n",
    "#or that the test is inconclusive.\n",
    "import  matplotlib.pyplot as plt\n",
    "import seaborn as sns\n",
    "sns.countplot(x=\"CLASIFFICATION_FINAL\", data=df, palette=\"pastel\")\n",
    "plt.show()"
   ]
  },
  {
   "cell_type": "code",
   "execution_count": null,
   "id": "9dff03da",
   "metadata": {},
   "outputs": [],
   "source": [
    "df['CLASIFFICATION_FINAL'].value_counts()"
   ]
  },
  {
   "cell_type": "code",
   "execution_count": null,
   "id": "bc729bdc",
   "metadata": {},
   "outputs": [],
   "source": [
    "#2- means this patient is alive, 1- dead\n",
    "df[\"DEATH\"] = [2 if each==\"9999-99-99\" else 1 for each in df.DATE_DIED]"
   ]
  },
  {
   "cell_type": "code",
   "execution_count": null,
   "id": "0802b21e",
   "metadata": {
    "scrolled": true
   },
   "outputs": [],
   "source": [
    "#droping DATE_DIED since we don't need this column enymore\n",
    "df.drop(columns=[\"DATE_DIED\"], inplace=True)\n",
    "df"
   ]
  },
  {
   "cell_type": "code",
   "execution_count": null,
   "id": "d441e452",
   "metadata": {},
   "outputs": [],
   "source": [
    "# create a heatmap plot\n",
    "plt.figure(figsize=(16, 16))\n",
    "sns.heatmap(df.corr(), cmap=\"seismic\", annot=True, vmin=-1, vmax=1);"
   ]
  },
  {
   "cell_type": "markdown",
   "id": "c6636e66",
   "metadata": {},
   "source": [
    "Each square shows the correlation between the variables on each axis. Correlation ranges from -1 to +1. Values closer to zero means there is no linear trend between the two variables. The close to 1 the correlation is the more positively correlated they are; that is as one increases so does the other and the closer to 1 the stronger this relationship is. A correlation closer to -1 is similar, but instead of both increasing one variable will decrease as the other increases. The diagonals are all 1/dark because those squares are correlating each variable to itself (so it's a perfect correlation). For the rest the larger the number and darker the color the higher the correlation between the two variables."
   ]
  },
  {
   "cell_type": "code",
   "execution_count": null,
   "id": "7b8b6f53",
   "metadata": {},
   "outputs": [],
   "source": [
    "import  matplotlib.pyplot as plt\n",
    "import seaborn as sns\n",
    "sns.countplot(x=\"DEATH\", data=df, palette=\"pastel\")\n",
    "plt.show()"
   ]
  },
  {
   "cell_type": "markdown",
   "id": "5c87097b",
   "metadata": {},
   "source": [
    "Using crosstab plot to see Number of patients who died from COVID-19 based on age where 2- means this patient is alive, 1- dead"
   ]
  },
  {
   "cell_type": "code",
   "execution_count": null,
   "id": "a124a9d3",
   "metadata": {},
   "outputs": [],
   "source": [
    "df['DEATH'].value_counts()"
   ]
  },
  {
   "cell_type": "markdown",
   "id": "3363de91",
   "metadata": {},
   "source": [
    "It is a big number for death, next I want to check at what age it mostly happens"
   ]
  },
  {
   "cell_type": "code",
   "execution_count": null,
   "id": "f4ac3daf",
   "metadata": {},
   "outputs": [],
   "source": [
    "# plating crosstab plot\n",
    "pd.crosstab(df.AGE,df.DEATH).plot(kind=\"bar\",figsize=(20,6))\n",
    "plt.title('COVID-19 death Ages')\n",
    "plt.xlabel('Age')\n",
    "plt.ylabel('Number of patients with COVID-19')\n",
    "plt.show()"
   ]
  },
  {
   "cell_type": "markdown",
   "id": "7dafc191",
   "metadata": {},
   "source": [
    "Here we can come to the conclusion, it's very rerely happens at a youg age it's mostly at the age of 50-80 y.o"
   ]
  },
  {
   "cell_type": "code",
   "execution_count": null,
   "id": "74307f59",
   "metadata": {},
   "outputs": [],
   "source": [
    "#ploting crosstab to see wether gender affects the number of death\n",
    "pd.crosstab(df.SEX,df.DEATH).plot(kind=\"bar\",figsize=(15,6),color=['green','red' ])\n",
    "plt.title('DEATH')\n",
    "plt.xlabel('Gender(1 = Female, 2 = Male)')\n",
    "plt.xticks(rotation=0)\n",
    "plt.legend([\"dead\", \"alive\"])\n",
    "plt.ylabel('Frequency')\n",
    "plt.show()"
   ]
  },
  {
   "cell_type": "markdown",
   "id": "0096620d",
   "metadata": {},
   "source": [
    "Gender does not really affect the number of death. "
   ]
  },
  {
   "cell_type": "code",
   "execution_count": null,
   "id": "b5eefa4d",
   "metadata": {},
   "outputs": [],
   "source": [
    "#ploting crosstab to see wether TABACCO affects the number of death\n",
    "pd.crosstab(df.TOBACCO,df.DEATH).plot(kind=\"bar\",figsize=(15,6),color=['green','red' ])\n",
    "plt.title('DEATH')\n",
    "plt.xlabel('Tabacco user(1 = YES, 2 = NO)')\n",
    "plt.xticks(rotation=0)\n",
    "plt.legend([\"dead\", \"alive\"])\n",
    "plt.ylabel('Frequency')\n",
    "plt.show()"
   ]
  },
  {
   "cell_type": "markdown",
   "id": "877a5192",
   "metadata": {},
   "source": [
    "Tabacco users are more likely to die from COVIS-19"
   ]
  },
  {
   "cell_type": "code",
   "execution_count": null,
   "id": "cf914a46",
   "metadata": {},
   "outputs": [],
   "source": [
    "#ploting crosstab to see wether diabetes affects the number of death\n",
    "pd.crosstab(df.DIABETES,df.DEATH).plot(kind=\"bar\",figsize=(15,6),color=['green','red' ])\n",
    "plt.title('DEATH')\n",
    "plt.xlabel('DIABETES(1 = YES, 2 = NO)')\n",
    "plt.xticks(rotation=0)\n",
    "plt.legend([\"dead\", \"alive\"])\n",
    "plt.ylabel('Frequency')\n",
    "plt.show()"
   ]
  },
  {
   "cell_type": "markdown",
   "id": "8d2b1ca4",
   "metadata": {},
   "source": [
    "Patients with diabetes are more likely to die from COVIS-19"
   ]
  },
  {
   "cell_type": "code",
   "execution_count": null,
   "id": "bd18e686",
   "metadata": {},
   "outputs": [],
   "source": [
    "#ploting crosstab to see wether OBESITY affects the number of death\n",
    "pd.crosstab(df.OBESITY,df.DEATH).plot(kind=\"bar\",figsize=(15,6),color=['green','red' ])\n",
    "plt.title('DEATH')\n",
    "plt.xlabel('OBESITY(1 = YES, 2 = NO)')\n",
    "plt.xticks(rotation=0)\n",
    "plt.legend([\"dead\", \"alive\"])\n",
    "plt.ylabel('Frequency')\n",
    "plt.show()"
   ]
  },
  {
   "cell_type": "markdown",
   "id": "88b583c9",
   "metadata": {},
   "source": [
    "Patients with obesity are more likely to die from COVIS-19"
   ]
  },
  {
   "cell_type": "code",
   "execution_count": null,
   "id": "9e419e13",
   "metadata": {},
   "outputs": [],
   "source": [
    "#ploting crosstab to see wether ASTHMA affects the number of death\n",
    "pd.crosstab(df.ASTHMA,df.DEATH).plot(kind=\"bar\",figsize=(15,6),color=['green','red' ])\n",
    "plt.title('DEATH')\n",
    "plt.xlabel('ASTHMA(1 = YES, 2 = NO)')\n",
    "plt.xticks(rotation=0)\n",
    "plt.legend([\"dead\", \"alive\"])\n",
    "plt.ylabel('Frequency')\n",
    "plt.show()"
   ]
  },
  {
   "cell_type": "markdown",
   "id": "07f0e698",
   "metadata": {},
   "source": [
    "Asthma doec not affect number of death from covid"
   ]
  },
  {
   "cell_type": "markdown",
   "id": "00adb122",
   "metadata": {},
   "source": [
    "To plot multiple pairwise bivariate distributions in a dataset, you can use the pairplot() function. This shows the relationship for (n, 2) combination of variable in a DataFrame as a matrix of plots and the diagonal plots are the univariate plots."
   ]
  },
  {
   "cell_type": "markdown",
   "id": "704105d2",
   "metadata": {},
   "source": [
    "Next I am splitting data into train and test to be ready for modeling. "
   ]
  },
  {
   "cell_type": "code",
   "execution_count": null,
   "id": "55488d69",
   "metadata": {},
   "outputs": [],
   "source": [
    "df = pd.get_dummies(df,columns=[\"MEDICAL_UNIT\",\"CLASIFFICATION_FINAL\"],drop_first=True)"
   ]
  },
  {
   "cell_type": "code",
   "execution_count": null,
   "id": "91680fcc",
   "metadata": {},
   "outputs": [],
   "source": [
    "from sklearn.preprocessing import RobustScaler\n",
    "scaler = RobustScaler()\n",
    "df.AGE = scaler.fit_transform(df.AGE.values.reshape(-1,1))"
   ]
  },
  {
   "cell_type": "code",
   "execution_count": null,
   "id": "edccb35a",
   "metadata": {},
   "outputs": [],
   "source": [
    "x = df.drop(columns=\"DEATH\")\n",
    "y = df[\"DEATH\"]"
   ]
  },
  {
   "cell_type": "code",
   "execution_count": null,
   "id": "5abe261d",
   "metadata": {},
   "outputs": [],
   "source": [
    "from sklearn.model_selection import train_test_split"
   ]
  },
  {
   "cell_type": "code",
   "execution_count": null,
   "id": "754c3370",
   "metadata": {},
   "outputs": [],
   "source": [
    "#split data into test and train 80/20\n",
    "x_train, x_test, y_train, y_test = train_test_split(x,y, test_size=0.2, random_state=42)\n",
    "print(\"X_Train :\",x_train.shape)\n",
    "print(\"X_Test :\",x_test.shape)\n",
    "print(\"Y_Train :\",y_train.shape)\n",
    "print(\"Y_Test :\",y_test.shape)"
   ]
  },
  {
   "cell_type": "markdown",
   "id": "4e1a2546",
   "metadata": {},
   "source": [
    "## Modeling"
   ]
  },
  {
   "cell_type": "markdown",
   "id": "bbd3edcc",
   "metadata": {},
   "source": [
    "For modeling: I used logistic regration, random forest, decision tree, stacking resembling for setting on rendomforest as the model with the best cross-validation perfomance, random forest feature importance ranking I used for guiding the choice anf order of variables to be included as the model underwent refinement"
   ]
  },
  {
   "cell_type": "markdown",
   "id": "24855f65",
   "metadata": {},
   "source": [
    "### Random Forest\n",
    "A Gaussian classifier is a generative approach in the sense that it attempts to model class posterior as well as input class-conditional distribution. Therefore, we can generate new samples in input space with a Gaussian classifier."
   ]
  },
  {
   "cell_type": "code",
   "execution_count": null,
   "id": "fb21bc12",
   "metadata": {},
   "outputs": [],
   "source": [
    "# runing RandomForestClassifier\n",
    "model = RandomForestClassifier(max_depth=5)\n",
    "model.fit(x_train, y_train)"
   ]
  },
  {
   "cell_type": "code",
   "execution_count": null,
   "id": "72563a05",
   "metadata": {},
   "outputs": [],
   "source": [
    "#evaluate the model\n",
    "from sklearn.metrics import confusion_matrix\n",
    "y_predict = model.predict(x_test)\n",
    "y_pred_quant = model.predict_proba(x_test)[:, 1]\n",
    "y_pred_bin = model.predict(x_test)"
   ]
  },
  {
   "cell_type": "code",
   "execution_count": null,
   "id": "0329fe3e",
   "metadata": {},
   "outputs": [],
   "source": [
    "#Assess the fit with a confusion matrix\n",
    "confusion_matrix = confusion_matrix(y_test, y_pred_bin)\n",
    "confusion_matrix"
   ]
  },
  {
   "cell_type": "code",
   "execution_count": null,
   "id": "7d08b633",
   "metadata": {},
   "outputs": [],
   "source": [
    "#checking the model using sensitivity and specificity\n",
    "total=sum(sum(confusion_matrix))\n",
    "\n",
    "sensitivity = confusion_matrix[0,0]/(confusion_matrix[0,0]+confusion_matrix[1,0])\n",
    "print('Sensitivity : ', sensitivity )\n",
    "\n",
    "specificity = confusion_matrix[1,1]/(confusion_matrix[1,1]+confusion_matrix[0,1])\n",
    "print('Specificity : ', specificity)"
   ]
  },
  {
   "cell_type": "code",
   "execution_count": null,
   "id": "770ae28b",
   "metadata": {},
   "outputs": [],
   "source": [
    "from sklearn.linear_model import LogisticRegression\n",
    "logreg=LogisticRegression()\n",
    "logreg.fit(x_train,y_train)\n",
    "y_pred=logreg.predict(x_test)"
   ]
  },
  {
   "cell_type": "code",
   "execution_count": null,
   "id": "7f280264",
   "metadata": {},
   "outputs": [],
   "source": [
    "from sklearn.metrics import accuracy_score\n",
    "\n",
    "# Assuming y_test and y_pred are your true labels and predicted labels, respectively\n",
    "accuracy = accuracy_score(y_test, y_pred)\n",
    "print(\"Accuracy:\", accuracy)"
   ]
  },
  {
   "cell_type": "code",
   "execution_count": null,
   "id": "cbb593f1",
   "metadata": {},
   "outputs": [],
   "source": [
    "from sklearn.metrics import confusion_matrix\n",
    "import seaborn as sn\n",
    "cm=confusion_matrix(y_test,y_pred)\n",
    "conf_matrix=pd.DataFrame(data=cm,columns=['Predicted:0','Predicted:1'],index=['Actual:0','Actual:1'])\n",
    "plt.figure(figsize = (8,5))\n",
    "sn.heatmap(conf_matrix, annot=True,fmt='d',cmap=\"Blues\")"
   ]
  },
  {
   "cell_type": "markdown",
   "id": "73928896",
   "metadata": {},
   "source": [
    "True Positive(we predict our patient has Heart Disease and patient actually has it)-6581\n",
    "\n",
    "True Negative (we predict our patient does not have Heart Disease and patient actually has it)-186125\n",
    "\n",
    "False Positive(we predict our patient has Heart Disease and patient actually does not have it)-4228\n",
    "\n",
    "False Negative(we predict our patient does not have Heart Disease and patient actually has it)-8097"
   ]
  },
  {
   "cell_type": "markdown",
   "id": "e5d0770e",
   "metadata": {},
   "source": [
    "!!!!!!!!!!!!!!!!!!!!!Inference:\n",
    "We got well accuracy with Logistic Regression.\n",
    "But it can mislead us so we have to check the other metrics.\n",
    "When we look at the F1 Score it says that we predicted the patients who survived well but we can't say the same thing for dead patients.\n",
    "Also we see the same thing when we check the confusion matrix. This problem is based on imbalance dataset as i mentioned about it."
   ]
  },
  {
   "cell_type": "markdown",
   "id": "d61d2b4d",
   "metadata": {},
   "source": [
    "## Evaluation"
   ]
  },
  {
   "cell_type": "markdown",
   "id": "c5301834",
   "metadata": {},
   "source": [
    "Next, I will check feature importance"
   ]
  },
  {
   "cell_type": "code",
   "execution_count": null,
   "id": "a90481c1",
   "metadata": {},
   "outputs": [],
   "source": [
    "from imblearn.under_sampling import RandomUnderSampler\n",
    "\n",
    "rand_under = RandomUnderSampler(random_state=0)\n",
    "x_resampled, y_resampled = rand_under.fit_resample(x,y)"
   ]
  },
  {
   "cell_type": "markdown",
   "id": "5cdabc19",
   "metadata": {},
   "source": [
    "Let's do it again and see if it will help to fix our problem "
   ]
  },
  {
   "cell_type": "code",
   "execution_count": null,
   "id": "5e3e5fae",
   "metadata": {},
   "outputs": [],
   "source": [
    "x_train, x_test, y_train, y_test = train_test_split(x_resampled,y_resampled, test_size=0.2, random_state=42)\n",
    "print(\"train_x :\",x_train.shape)\n",
    "print(\"test_x :\",x_test.shape)\n",
    "print(\"train_y :\",y_train.shape)\n",
    "print(\"test_y :\",y_test.shape)"
   ]
  },
  {
   "cell_type": "code",
   "execution_count": null,
   "id": "20850dca",
   "metadata": {},
   "outputs": [],
   "source": [
    "print(x.shape)\n",
    "print(y.shape)\n"
   ]
  },
  {
   "cell_type": "code",
   "execution_count": null,
   "id": "f41d9087",
   "metadata": {},
   "outputs": [],
   "source": [
    "logreg.fit(x_train, y_train)\n",
    "print(\"Logistic Regression Accuracy :\", logreg.score(x_test, y_test))"
   ]
  },
  {
   "cell_type": "code",
   "execution_count": null,
   "id": "05c427cb",
   "metadata": {},
   "outputs": [],
   "source": [
    "from sklearn.metrics import f1_score"
   ]
  },
  {
   "cell_type": "code",
   "execution_count": null,
   "id": "91215fa6",
   "metadata": {},
   "outputs": [],
   "source": [
    "print(\"F1 Score :\",f1_score(y_test,logreg.predict(x_test),average=None))"
   ]
  },
  {
   "cell_type": "code",
   "execution_count": null,
   "id": "c687e86d",
   "metadata": {},
   "outputs": [],
   "source": [
    "from sklearn.metrics import confusion_matrix\n",
    "\n",
    "sns.heatmap(confusion_matrix(y_test, logreg.predict(x_test)), annot=True, fmt='d',cmap=\"Blues\")\n",
    "plt.title(\"Confusion Matrix\", fontsize=18)"
   ]
  },
  {
   "cell_type": "markdown",
   "id": "302918f8",
   "metadata": {},
   "source": [
    "!!!!!!!!We solved the problem with Undersampling. We also could've used Oversampling and probably we would get better accuracy but i think it would be so tiring for computer."
   ]
  },
  {
   "cell_type": "code",
   "execution_count": null,
   "id": "7ce1dbe6",
   "metadata": {},
   "outputs": [],
   "source": [
    "from sklearn.metrics import roc_curve\n",
    "y_test= y_test.replace({2:1,1:0})\n",
    "# Probabilities\n",
    "logreg_predict = logreg.predict_proba(x_test)\n",
    "fpr, tpr, thresholds = roc_curve(y_test, logreg_predict[:,1])\n",
    "plt.plot([0,1],[0,1],\"k--\")\n",
    "plt.plot(fpr, tpr, label = \"Logistic Regression\")\n",
    "plt.xlabel(\"False positive rate\")\n",
    "plt.ylabel(\"True positive rate\")\n",
    "plt.title(\"ROC Curve\")\n",
    "plt.show()"
   ]
  },
  {
   "cell_type": "markdown",
   "id": "d6295862",
   "metadata": {},
   "source": [
    "# Conclusion"
   ]
  },
  {
   "cell_type": "markdown",
   "id": "634449c5",
   "metadata": {},
   "source": []
  },
  {
   "cell_type": "markdown",
   "id": "55b4e286",
   "metadata": {},
   "source": [
    "## Limitation"
   ]
  },
  {
   "cell_type": "markdown",
   "id": "c7812048",
   "metadata": {},
   "source": [
    "## Recommendation"
   ]
  },
  {
   "cell_type": "markdown",
   "id": "074d9cae",
   "metadata": {},
   "source": []
  },
  {
   "cell_type": "markdown",
   "id": "a422bdd7",
   "metadata": {},
   "source": [
    "## Next Steps"
   ]
  },
  {
   "cell_type": "code",
   "execution_count": null,
   "id": "efc24fe0",
   "metadata": {},
   "outputs": [],
   "source": []
  }
 ],
 "metadata": {
  "kernelspec": {
   "display_name": "Python (learn-env)",
   "language": "python",
   "name": "learn-env"
  },
  "language_info": {
   "codemirror_mode": {
    "name": "ipython",
    "version": 3
   },
   "file_extension": ".py",
   "mimetype": "text/x-python",
   "name": "python",
   "nbconvert_exporter": "python",
   "pygments_lexer": "ipython3",
   "version": "3.9.13"
  }
 },
 "nbformat": 4,
 "nbformat_minor": 5
}
